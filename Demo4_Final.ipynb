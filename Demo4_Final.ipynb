{
 "cells": [
  {
   "cell_type": "markdown",
   "metadata": {},
   "source": [
    "# Demo 4 --Final Robot Playing Game\n",
    "\n",
    "<b> Zach Galante </b>\n"
   ]
  },
  {
   "cell_type": "markdown",
   "metadata": {},
   "source": [
    "# Imports"
   ]
  },
  {
   "cell_type": "code",
   "execution_count": 1,
   "metadata": {},
   "outputs": [
    {
     "name": "stdout",
     "output_type": "stream",
     "text": [
      "Populating the interactive namespace from numpy and matplotlib\n"
     ]
    }
   ],
   "source": [
    "%pylab inline"
   ]
  },
  {
   "cell_type": "code",
   "execution_count": 2,
   "metadata": {},
   "outputs": [
    {
     "name": "stdout",
     "output_type": "stream",
     "text": [
      "Version  1.0.6\n",
      "Version:  0.0.31\n"
     ]
    }
   ],
   "source": [
    "from classy import *"
   ]
  },
  {
   "cell_type": "code",
   "execution_count": 276,
   "metadata": {},
   "outputs": [],
   "source": [
    "from Game import *\n",
    "from RobotSim373 import *"
   ]
  },
  {
   "cell_type": "markdown",
   "metadata": {},
   "source": [
    "# Chomp Implementation"
   ]
  },
  {
   "cell_type": "code",
   "execution_count": 357,
   "metadata": {},
   "outputs": [],
   "source": [
    "def initial_state():\n",
    "    board = Board(4,7)\n",
    "    for i in range(len(board)):\n",
    "        board[i] = 1\n",
    "    return board\n",
    "def show_state(state):\n",
    "    print(state)\n",
    "def valid_moves(state, player):\n",
    "    valid_moves_list = []\n",
    "    for location in range(27):\n",
    "        if (state[location] == 1):\n",
    "            valid_moves_list.append(location)\n",
    "        \n",
    "    return valid_moves_list\n",
    "def update_state(state, player, move):\n",
    "    board = state\n",
    "    row, column = board.rc_from_index(move)\n",
    "    for r in range(row, 4):\n",
    "        for c in range(column,7):\n",
    "            board[r,c] = 0\n",
    "    return board   \n",
    "def win_status(state, player):\n",
    "    if state[0] ==0:\n",
    "        return 'lose'\n",
    "def random_move(state, player):\n",
    "    move  = random.choice(valid_moves(state,player))\n",
    "    if move == 0:\n",
    "        move  = random.choice(valid_moves(state,player))\n",
    "    return move\n",
    "def human_move(state,player):\n",
    "    valid_moves_list = valid_moves(state,player)\n",
    "    print(f'Valid Moves: {valid_moves_list}')\n",
    "    move = int(input('Select a move'))\n",
    "    return move\n",
    "from Game.minimax import *\n",
    "def minimax_move(state,player):\n",
    "\n",
    "    values,moves=minimax_values(state,player,display=True, maxdepth = 4)\n",
    "    return top_choice(moves,values)\n",
    "\n",
    "\n",
    "minimax_agent=Agent(minimax_move)\n",
    "human_agent = Agent(human_move)\n",
    "random_agent = Agent(random_move)\n",
    "g= Game()\n",
    "g.run(minimax_agent, human_agent)"
   ]
  },
  {
   "cell_type": "markdown",
   "metadata": {},
   "source": [
    "# Read State Functions "
   ]
  },
  {
   "cell_type": "code",
   "execution_count": 358,
   "metadata": {},
   "outputs": [],
   "source": [
    "def train_classifier(t,robot):\n",
    "    from classy import image,  remap_targets,  NaiveBayes \n",
    "    \n",
    "    images=image.load_images('images/chomp')\n",
    "    images=remap_targets(images,new_target_names=['0', '1'])    \n",
    "    data=image.images_to_vectors(images)    \n",
    "    \n",
    "    C=NaiveBayes()\n",
    "    C.fit(data.vectors,data.targets)    \n",
    "\n",
    "    robot.C=C\n",
    "    \n",
    "    return True"
   ]
  },
  {
   "cell_type": "code",
   "execution_count": 359,
   "metadata": {},
   "outputs": [],
   "source": [
    "def board_square_image(image, row, column):\n",
    "    row += 1\n",
    "    column += 1\n",
    "    row_start = 282\n",
    "    square_size = 23\n",
    "    column_start = 196\n",
    "    gap_size = 14\n",
    "    if row == 1:\n",
    "        picture_start_row =  row_start\n",
    "        picture_end_row = square_size + picture_start_row\n",
    "    else: \n",
    "        picture_start_row  = (((row -1) * square_size) + ((row -1 ) * gap_size)) + row_start\n",
    "        picture_end_row = square_size + picture_start_row\n",
    "    if column == 1:\n",
    "        picture_start_column =  column_start\n",
    "        picture_end_column = square_size + picture_start_column\n",
    "    else: \n",
    "        picture_start_column  = (((column -1) * square_size) + ((column -1 ) * gap_size)) + column_start\n",
    "        picture_end_column = square_size + picture_start_column\n",
    "    return image[picture_start_row : picture_end_row, picture_start_column : picture_end_column, : ]"
   ]
  },
  {
   "cell_type": "code",
   "execution_count": 420,
   "metadata": {},
   "outputs": [],
   "source": [
    "def read_state(t,robot):\n",
    "    \n",
    "    image_filename=f'images/test/test_image.jpeg'\n",
    "    robot.take_picture(image_filename)\n",
    "    robot.image_filename=image_filename  # save the last name\n",
    "    \n",
    "    state=initial_state()\n",
    "    \n",
    "    im=imread(robot.image_filename)    \n",
    "\n",
    "    for r in range(4):\n",
    "        for c in range(7):\n",
    "            sub_image=board_square_image(im,r,c)\n",
    "            vector=atleast_2d(sub_image.ravel())\n",
    "            prediction=robot.C.predict(vector)[0]\n",
    "            \n",
    "            state[r,c]=prediction\n",
    "    \n",
    "\n",
    "    robot.state=state\n",
    "\n",
    "    \n",
    "    return True\n",
    "        "
   ]
  },
  {
   "cell_type": "markdown",
   "metadata": {},
   "source": [
    "## Get Move"
   ]
  },
  {
   "cell_type": "code",
   "execution_count": 450,
   "metadata": {},
   "outputs": [],
   "source": [
    "def get_move(t,robot):\n",
    "    state=robot.state\n",
    "    # assuming my robot is player 1\n",
    "    robot.move=minimax_move(state,1)\n",
    "    return True"
   ]
  },
  {
   "cell_type": "markdown",
   "metadata": {},
   "source": [
    "# Make Move"
   ]
  },
  {
   "cell_type": "code",
   "execution_count": 44,
   "metadata": {},
   "outputs": [],
   "source": [
    "def build(robot): #--  \n",
    "    disk1=Disk(robot,x= 5,y= 2 ,angle=0.00,radius=0.50,name=\"disk1\") # connecting block\n",
    "    right_rectangle = Box(robot,x= 5.9 ,y= 5 ,width= 0.2,height= 5,name=\"right_rectangle\")\n",
    "    left_rectangle = Box(robot,x= 4.1 ,y= 5 ,width= 0.2,height= 5,name=\"left_rectangle\")\n",
    "    left_disk = Disk(robot,x= 4.1,y= 8 ,angle=0.00,radius=0.20,name=\"left_disk\")\n",
    "    right_disk = Disk(robot,x= 5.9,y= 8 ,angle=0.00,radius=0.20,name=\"right_disk\")\n",
    "    connect(left_disk, left_rectangle, 'distance')\n",
    "    connect(right_disk, right_rectangle, 'distance')\n",
    "    connect(left_rectangle, right_rectangle, 'weld')\n",
    "    connect(disk1, right_rectangle, 'distance')\n",
    "    connect(disk1, left_rectangle, 'distance')\n",
    "    connect(left_disk, right_rectangle, 'distance')\n",
    "    connect(right_disk, left_rectangle, 'distance')"
   ]
  },
  {
   "cell_type": "code",
   "execution_count": 371,
   "metadata": {},
   "outputs": [],
   "source": [
    "\n",
    "def monitor(t,robot):\n",
    "    robot.message=t   \n",
    "    \n",
    "def move_forward(t,robot): \n",
    "    robot['right_rectangle'].F = 1.6\n",
    "    robot['left_rectangle'].F = 1.6\n",
    "    robot['disk1'].F = 2.115\n",
    "    robot['right_disk'].F = 0.5\n",
    "    robot['left_disk'].F = 0.5\n",
    "    return True \n",
    "    \n",
    "def move_right(t,robot): \n",
    "    state = robot.state\n",
    "    robot.column = state.rc_from_index(robot.move)[1]\n",
    "    distance = robot['disk1'].read_distance()\n",
    "    if distance > (19 - (robot.column * 1.6)): \n",
    "        robot.message='%.2f' % distance\n",
    "        robot['right_rectangle'].F = 1.6\n",
    "        robot['left_rectangle'].F = 1.6\n",
    "        robot['disk1'].F = 2.115\n",
    "        robot['right_disk'].F = 0.5\n",
    "        robot['left_disk'].F = 0.5\n",
    "        #robot['right_top_disk'].F= 0.5\n",
    "        #robot['left_top_disk'].F = 0.5\n",
    "    else:\n",
    "        robot['right_rectangle'].F = 0\n",
    "        robot['left_rectangle'].F = 0\n",
    "        robot['disk1'].F = 0\n",
    "        robot['right_disk'].F = 0\n",
    "        robot['left_disk'].F = 0 \n",
    "        robot.message='%.2f' % distance\n",
    "        return True\n",
    "def right_disk_look_up(t,robot):\n",
    "    right_disk_angle = robot['right_disk'].angle\n",
    "    robot['right_disk'].τ = 0.002\n",
    "    if right_disk_angle < 91 and right_disk_angle > 89:\n",
    "        robot['right_disk'].τ = 0\n",
    "        return True\n",
    "def left_disk_look_up(t,robot):\n",
    "    left_disk_angle = robot['left_disk'].angle\n",
    "    robot['left_disk'].τ = 0.002\n",
    "    if left_disk_angle < 91 and left_disk_angle > 89:\n",
    "        robot['left_disk'].τ = 0\n",
    "        return True\n",
    "def center_disk_look_up(t,robot):\n",
    "    robot.message='%.2f' % robot['disk1'].angle\n",
    "    angle = robot['disk1'].angle\n",
    "    robot['disk1'].τ = 0.05\n",
    "    if angle < 91 and angle > 89:\n",
    "        #robot['disk1'].F = 3\n",
    "        robot['disk1'].τ = 0\n",
    "        return True\n",
    "def move_up(t,robot):\n",
    "        state = robot.state\n",
    "        robot.row = state.rc_from_index(robot.move)[0]\n",
    "        robot['left_disk'].F = 2\n",
    "        robot['right_disk'].F = 2\n",
    "        robot['right_rectangle'].F = 0\n",
    "        robot['left_rectangle'].F = 0\n",
    "        robot.message='%.2f' % robot['right_disk'].read_distance()\n",
    "        return True\n",
    "    \n",
    "def until_distance_up(t,robot):\n",
    "    \n",
    "    num_rows  = 4 - (robot.row + 1)\n",
    "    distance_up = robot['right_disk'].read_distance()\n",
    "    robot.message='%.2f' % robot['right_disk'].read_distance()\n",
    "    # original distance up = 13.35\n",
    "    \n",
    "    if distance_up < (13.35 -(1.6 * num_rows)):\n",
    "        robot['disk1'].F = 0\n",
    "        return True\n",
    "def move_box_right(t,robot):\n",
    "    robot['right_rectangle'].F = 2.3\n",
    "    robot['left_rectangle'].F = 2.3\n",
    "    robot['disk1'].F = 1\n",
    "    robot['left_disk'].F = 0\n",
    "    robot['right_disk'].F = 0 \n",
    "    return True\n",
    "\n",
    "def until_close(t,robot):\n",
    "    if robot['right_rectangle'].read_distance() < 6:\n",
    "            robot['right_rectangle'].F = 0\n",
    "            robot['left_rectangle'].F = 0\n",
    "            robot['disk1'].F = 0\n",
    "            return True"
   ]
  },
  {
   "cell_type": "code",
   "execution_count": 222,
   "metadata": {},
   "outputs": [],
   "source": [
    "def get_move(t,robot):\n",
    "    state=robot.state\n",
    "    # assuming my robot is player 1\n",
    "    robot.move=minimax_move(state,1)\n",
    "    return True\n"
   ]
  },
  {
   "cell_type": "code",
   "execution_count": 219,
   "metadata": {},
   "outputs": [],
   "source": [
    "def make_move(t,robot):\n",
    "    move=robot.move\n",
    "    state=robot.state\n",
    "    \n",
    "    \n",
    "    return StateMachine(\n",
    "    (move_right,'right_disk_look_up'),\n",
    "    (right_disk_look_up,'left_disk_look_up'),\n",
    "    (left_disk_look_up,'move_up'),\n",
    "    (move_up, 'until_distance_up'),\n",
    "    (until_distance_up, 'move_box_right'),\n",
    "    (move_box_right, 'until_close'),\n",
    "    (until_close, '_end_simulation'))"
   ]
  },
  {
   "cell_type": "markdown",
   "metadata": {},
   "source": [
    "# Playing the Game"
   ]
  },
  {
   "cell_type": "code",
   "execution_count": 477,
   "metadata": {},
   "outputs": [],
   "source": [
    "state_machine=StateMachine(\n",
    "    (train_classifier,\"read_state\"),\n",
    "    ([read_state,get_move],\"make_move\"),\n",
    "    (make_move,\"_end_simulation\")\n",
    ")"
   ]
  },
  {
   "cell_type": "code",
   "execution_count": 495,
   "metadata": {},
   "outputs": [
    {
     "name": "stdout",
     "output_type": "stream",
     "text": [
      " 1  1  1  1  1  1  1 \n",
      " 1  1  1  1  1  1  1 \n",
      " 1  1  1  1  1  1  1 \n",
      " 1  1  1  1  1  1  1 \n",
      "\n"
     ]
    },
    {
     "name": "stdin",
     "output_type": "stream",
     "text": [
      "Pause....hit return to continue, any other key to break. \n"
     ]
    }
   ],
   "source": [
    "#state=random.choice(list(Q1.keys()))\n",
    "state=initial_state()\n",
    "\n",
    "print(state)\n",
    "_=input(\"Pause....hit return to continue, any other key to break.\")\n",
    "if _:\n",
    "    raise ValueError"
   ]
  },
  {
   "cell_type": "code",
   "execution_count": 498,
   "metadata": {},
   "outputs": [
    {
     "data": {
      "image/png": "[encoded data removed]",
      "text/plain": [
       "<Figure size 720x720 with 1 Axes>"
      ]
     },
     "metadata": {
      "needs_background": "light"
     },
     "output_type": "display_data"
    }
   ],
   "source": [
    "env=FrictionEnvironment(24,24)\n",
    "robot=Robot(env)\n",
    "build(robot) \n",
    "robot.monitor=monitor\n",
    "robot.controller=Controller(state_machine)\n",
    "robot.message='%.2f' % robot['right_disk'].read_distance()\n",
    "rows = 4\n",
    "columns = 7\n",
    "for row in range(4):\n",
    "    for column in range(7):\n",
    "        if state[row,column] == 0:\n",
    "            pass\n",
    "        elif state[row,column]==1:\n",
    "            Box(env,x=5+column*1.6,y=10 + (3-row)*1.6,density=0.0000001)\n",
    "run_sim(env,robot.controller,\n",
    "        total_time=80,  # seconds\n",
    "        dt=1/60,\n",
    "        dt_display= 3,  # make this larger for a faster display\n",
    "       )"
   ]
  },
  {
   "cell_type": "code",
   "execution_count": 499,
   "metadata": {},
   "outputs": [
    {
     "name": "stdout",
     "output_type": "stream",
     "text": [
      " 1  0  0  0  0  0  0 \n",
      " 0  0  0  0  0  0  0 \n",
      " 0  0  0  0  0  0  0 \n",
      " 0  0  0  0  0  0  0 \n",
      "\n",
      "Valid Moves: [0]\n"
     ]
    },
    {
     "name": "stdin",
     "output_type": "stream",
     "text": [
      "Select a move 0\n"
     ]
    },
    {
     "name": "stdout",
     "output_type": "stream",
     "text": [
      "The human lost\n",
      " 0  0  0  0  0  0  0 \n",
      " 0  0  0  0  0  0  0 \n",
      " 0  0  0  0  0  0  0 \n",
      " 0  0  0  0  0  0  0 \n",
      "\n"
     ]
    }
   ],
   "source": [
    "state=update_state(robot.state,1,robot.move)\n",
    "show_state(state)\n",
    "\n",
    "status=win_status(state,1)\n",
    "if status=='win':\n",
    "    print(\"The robot won\")\n",
    "elif status=='lose':\n",
    "    print(\"The robot lost\")    \n",
    "elif status=='stalemate':\n",
    "    print(\"stalemate\")\n",
    "else:\n",
    "    pass\n",
    "    \n",
    "# human move\n",
    "\n",
    "if not status:\n",
    "\n",
    "    move=human_move(state,2)\n",
    "    state=update_state(state,2,move)\n",
    "\n",
    "    status=win_status(state,1)\n",
    "    if status=='win':\n",
    "        print(\"The human won\")\n",
    "    elif status=='lose':\n",
    "        print(\"The human lost\")    \n",
    "    elif status=='stalemate':\n",
    "        print(\"stalemate\")\n",
    "    else:\n",
    "        pass\n",
    "\n",
    "    show_state(state) "
   ]
  },
  {
   "cell_type": "code",
   "execution_count": null,
   "metadata": {},
   "outputs": [],
   "source": []
  }
 ],
 "metadata": {
  "kernelspec": {
   "display_name": "Python 3",
   "language": "python",
   "name": "python3"
  },
  "language_info": {
   "codemirror_mode": {
    "name": "ipython",
    "version": 3
   },
   "file_extension": ".py",
   "mimetype": "text/x-python",
   "name": "python",
   "nbconvert_exporter": "python",
   "pygments_lexer": "ipython3",
   "version": "3.8.3"
  }
 },
 "nbformat": 4,
 "nbformat_minor": 4
}
